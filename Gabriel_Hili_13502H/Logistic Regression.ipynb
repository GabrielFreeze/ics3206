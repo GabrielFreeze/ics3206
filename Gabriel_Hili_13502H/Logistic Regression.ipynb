{
 "cells": [
  {
   "cell_type": "markdown",
   "id": "f1a2ed3d",
   "metadata": {},
   "source": [
    "# Logistic Regression"
   ]
  },
  {
   "cell_type": "code",
   "execution_count": 1,
   "id": "00b0bb07",
   "metadata": {
    "ExecuteTime": {
     "end_time": "2022-12-08T11:14:46.182861Z",
     "start_time": "2022-12-08T11:14:42.430862Z"
    }
   },
   "outputs": [
    {
     "data": {
      "text/html": [
       "<div>\n",
       "<style scoped>\n",
       "    .dataframe tbody tr th:only-of-type {\n",
       "        vertical-align: middle;\n",
       "    }\n",
       "\n",
       "    .dataframe tbody tr th {\n",
       "        vertical-align: top;\n",
       "    }\n",
       "\n",
       "    .dataframe thead th {\n",
       "        text-align: right;\n",
       "    }\n",
       "</style>\n",
       "<table border=\"1\" class=\"dataframe\">\n",
       "  <thead>\n",
       "    <tr style=\"text-align: right;\">\n",
       "      <th></th>\n",
       "      <th>sd</th>\n",
       "      <th>Q25</th>\n",
       "      <th>IQR</th>\n",
       "      <th>sp.ent</th>\n",
       "      <th>sfm</th>\n",
       "      <th>meanfun</th>\n",
       "      <th>mindom</th>\n",
       "      <th>dfrange</th>\n",
       "      <th>label</th>\n",
       "    </tr>\n",
       "  </thead>\n",
       "  <tbody>\n",
       "    <tr>\n",
       "      <th>0</th>\n",
       "      <td>0.241585</td>\n",
       "      <td>0.455971</td>\n",
       "      <td>-0.601712</td>\n",
       "      <td>0.796058</td>\n",
       "      <td>0.925288</td>\n",
       "      <td>1.302489</td>\n",
       "      <td>-0.708404</td>\n",
       "      <td>-0.415794</td>\n",
       "      <td>1</td>\n",
       "    </tr>\n",
       "    <tr>\n",
       "      <th>1</th>\n",
       "      <td>-0.114476</td>\n",
       "      <td>-0.105393</td>\n",
       "      <td>0.401743</td>\n",
       "      <td>0.461699</td>\n",
       "      <td>-0.229014</td>\n",
       "      <td>-0.259737</td>\n",
       "      <td>-0.461523</td>\n",
       "      <td>0.412186</td>\n",
       "      <td>0</td>\n",
       "    </tr>\n",
       "    <tr>\n",
       "      <th>2</th>\n",
       "      <td>-1.284107</td>\n",
       "      <td>1.726540</td>\n",
       "      <td>-1.169425</td>\n",
       "      <td>-1.599113</td>\n",
       "      <td>-1.269425</td>\n",
       "      <td>1.315527</td>\n",
       "      <td>-0.461523</td>\n",
       "      <td>1.777355</td>\n",
       "      <td>1</td>\n",
       "    </tr>\n",
       "    <tr>\n",
       "      <th>3</th>\n",
       "      <td>1.089943</td>\n",
       "      <td>-0.391539</td>\n",
       "      <td>0.786946</td>\n",
       "      <td>0.578250</td>\n",
       "      <td>0.982092</td>\n",
       "      <td>-0.698228</td>\n",
       "      <td>-0.708404</td>\n",
       "      <td>-0.679948</td>\n",
       "      <td>0</td>\n",
       "    </tr>\n",
       "    <tr>\n",
       "      <th>4</th>\n",
       "      <td>0.231523</td>\n",
       "      <td>0.681061</td>\n",
       "      <td>-0.527833</td>\n",
       "      <td>0.508050</td>\n",
       "      <td>0.516462</td>\n",
       "      <td>1.167348</td>\n",
       "      <td>-0.708404</td>\n",
       "      <td>-1.343664</td>\n",
       "      <td>1</td>\n",
       "    </tr>\n",
       "    <tr>\n",
       "      <th>...</th>\n",
       "      <td>...</td>\n",
       "      <td>...</td>\n",
       "      <td>...</td>\n",
       "      <td>...</td>\n",
       "      <td>...</td>\n",
       "      <td>...</td>\n",
       "      <td>...</td>\n",
       "      <td>...</td>\n",
       "      <td>...</td>\n",
       "    </tr>\n",
       "    <tr>\n",
       "      <th>3163</th>\n",
       "      <td>1.087355</td>\n",
       "      <td>-0.480803</td>\n",
       "      <td>0.982768</td>\n",
       "      <td>1.385949</td>\n",
       "      <td>1.667369</td>\n",
       "      <td>-0.969765</td>\n",
       "      <td>-0.338082</td>\n",
       "      <td>-1.208257</td>\n",
       "      <td>0</td>\n",
       "    </tr>\n",
       "    <tr>\n",
       "      <th>3164</th>\n",
       "      <td>-1.471392</td>\n",
       "      <td>0.863030</td>\n",
       "      <td>-1.176833</td>\n",
       "      <td>-0.555301</td>\n",
       "      <td>-1.128432</td>\n",
       "      <td>0.530223</td>\n",
       "      <td>1.143207</td>\n",
       "      <td>-1.214917</td>\n",
       "      <td>1</td>\n",
       "    </tr>\n",
       "    <tr>\n",
       "      <th>3165</th>\n",
       "      <td>0.644400</td>\n",
       "      <td>-0.395149</td>\n",
       "      <td>0.953317</td>\n",
       "      <td>0.626947</td>\n",
       "      <td>0.305185</td>\n",
       "      <td>-0.983770</td>\n",
       "      <td>-0.708404</td>\n",
       "      <td>-0.688828</td>\n",
       "      <td>0</td>\n",
       "    </tr>\n",
       "    <tr>\n",
       "      <th>3166</th>\n",
       "      <td>1.557415</td>\n",
       "      <td>-0.558784</td>\n",
       "      <td>0.970942</td>\n",
       "      <td>1.076622</td>\n",
       "      <td>1.232644</td>\n",
       "      <td>-0.441604</td>\n",
       "      <td>-0.708404</td>\n",
       "      <td>-0.005133</td>\n",
       "      <td>0</td>\n",
       "    </tr>\n",
       "    <tr>\n",
       "      <th>3167</th>\n",
       "      <td>0.580302</td>\n",
       "      <td>-0.081165</td>\n",
       "      <td>-0.019728</td>\n",
       "      <td>0.828387</td>\n",
       "      <td>0.822135</td>\n",
       "      <td>0.297958</td>\n",
       "      <td>0.649444</td>\n",
       "      <td>0.532055</td>\n",
       "      <td>1</td>\n",
       "    </tr>\n",
       "  </tbody>\n",
       "</table>\n",
       "<p>3168 rows × 9 columns</p>\n",
       "</div>"
      ],
      "text/plain": [
       "            sd       Q25       IQR    sp.ent       sfm   meanfun    mindom  \\\n",
       "0     0.241585  0.455971 -0.601712  0.796058  0.925288  1.302489 -0.708404   \n",
       "1    -0.114476 -0.105393  0.401743  0.461699 -0.229014 -0.259737 -0.461523   \n",
       "2    -1.284107  1.726540 -1.169425 -1.599113 -1.269425  1.315527 -0.461523   \n",
       "3     1.089943 -0.391539  0.786946  0.578250  0.982092 -0.698228 -0.708404   \n",
       "4     0.231523  0.681061 -0.527833  0.508050  0.516462  1.167348 -0.708404   \n",
       "...        ...       ...       ...       ...       ...       ...       ...   \n",
       "3163  1.087355 -0.480803  0.982768  1.385949  1.667369 -0.969765 -0.338082   \n",
       "3164 -1.471392  0.863030 -1.176833 -0.555301 -1.128432  0.530223  1.143207   \n",
       "3165  0.644400 -0.395149  0.953317  0.626947  0.305185 -0.983770 -0.708404   \n",
       "3166  1.557415 -0.558784  0.970942  1.076622  1.232644 -0.441604 -0.708404   \n",
       "3167  0.580302 -0.081165 -0.019728  0.828387  0.822135  0.297958  0.649444   \n",
       "\n",
       "       dfrange  label  \n",
       "0    -0.415794      1  \n",
       "1     0.412186      0  \n",
       "2     1.777355      1  \n",
       "3    -0.679948      0  \n",
       "4    -1.343664      1  \n",
       "...        ...    ...  \n",
       "3163 -1.208257      0  \n",
       "3164 -1.214917      1  \n",
       "3165 -0.688828      0  \n",
       "3166 -0.005133      0  \n",
       "3167  0.532055      1  \n",
       "\n",
       "[3168 rows x 9 columns]"
      ]
     },
     "execution_count": 1,
     "metadata": {},
     "output_type": "execute_result"
    }
   ],
   "source": [
    "import os\n",
    "import torch\n",
    "import numpy as np\n",
    "import pandas as pd\n",
    "import seaborn as sns\n",
    "from sklearn.linear_model import LogisticRegression\n",
    "import matplotlib.pyplot as plt\n",
    "from sklearn.model_selection import train_test_split\n",
    "from sklearn.metrics import confusion_matrix, precision_score, recall_score, accuracy_score,f1_score\n",
    "\n",
    "\n",
    "\n",
    "#Set figure size\n",
    "sns.set(rc={'figure.figsize':(5,5)})\n",
    "\n",
    "#Load data\n",
    "df = pd.read_csv(os.path.join('data','data_filtered.csv'))\n",
    "df2  = pd.read_csv(os.path.join('data','data_all.csv'))\n",
    "\n",
    "#Enable CUDA\n",
    "device = 'cuda:0' if torch.cuda.is_available() else 'cpu'\n",
    "\n",
    "df"
   ]
  },
  {
   "cell_type": "code",
   "execution_count": 2,
   "id": "5883500f",
   "metadata": {
    "ExecuteTime": {
     "end_time": "2022-12-08T11:14:48.536861Z",
     "start_time": "2022-12-08T11:14:48.513862Z"
    }
   },
   "outputs": [
    {
     "name": "stdout",
     "output_type": "stream",
     "text": [
      "Number of Features: 8\n"
     ]
    }
   ],
   "source": [
    "feature_size = len(df.drop(['label'],axis=1).columns)\n",
    "print(f'Number of Features: {feature_size}')\n",
    "\n",
    "train_x, test_x, train_y, test_y = train_test_split(\n",
    "    df.drop(['label'], axis=1), df['label'], test_size=0.2, random_state=42)\n"
   ]
  },
  {
   "cell_type": "code",
   "execution_count": 3,
   "id": "3f705959",
   "metadata": {
    "ExecuteTime": {
     "end_time": "2022-12-08T11:14:52.367861Z",
     "start_time": "2022-12-08T11:14:52.352863Z"
    }
   },
   "outputs": [],
   "source": [
    "def run(C:float = 1.0, #Regularisation parameter\n",
    "        tol:float = 1e-4, #Tolerance to stop\n",
    "        fit_intercept:bool = True, #Specifies if an intercept should be added to the decision function\n",
    "        show:bool = True):\n",
    "    \n",
    "    lr_clf = LogisticRegression(C=C,\n",
    "                                tol=tol,\n",
    "                                fit_intercept=fit_intercept,\n",
    "                                random_state=1).fit(train_x, train_y)\n",
    "    prediction = lr_clf.predict(test_x)\n",
    "    \n",
    "    # Generate Accuracy, Precision, Recall, F1 Score\n",
    "    accuracy = accuracy_score(prediction, test_y)\n",
    "    precision = precision_score(prediction, test_y)\n",
    "    recall = recall_score(prediction, test_y)\n",
    "    f1 = f1_score(prediction, test_y)\n",
    "    \n",
    "    if not show:\n",
    "        return (accuracy,precision,recall,f1)\n",
    "    \n",
    "    #Generate confusion matrix\n",
    "    cm = confusion_matrix(test_y, prediction)\n",
    "    count      = [\"{0:0.0f}\".format(v) for v in cm.flatten()]\n",
    "    percentage = [\"{0:.2%}\".format(v) for v in cm.flatten()/np.sum(cm)]\n",
    "    labels = np.asarray([f\"{v1}\\n{v2}\" for v1, v2 in\n",
    "              zip(count,percentage)]).reshape(2,2)\n",
    "    sns.heatmap(cm,fmt='',annot=labels)\n",
    "    \n",
    "    # Print to standard output\n",
    "    print('Accuracy:\\t%.3f' % accuracy)\n",
    "    print('Precision:\\t%.3f' % precision)\n",
    "    print('Recall:  \\t%.3f' % recall)\n",
    "    print('F1 Score:\\t%.3f' % f1)\n",
    "    \n",
    "    return [accuracy,precision,recall,f1]"
   ]
  },
  {
   "cell_type": "markdown",
   "id": "ae34accb",
   "metadata": {},
   "source": [
    "# Evaluation"
   ]
  },
  {
   "cell_type": "markdown",
   "id": "16783c1c",
   "metadata": {},
   "source": [
    "## Varying <code>tol</code> and <code>C</code> simultaneously"
   ]
  },
  {
   "cell_type": "code",
   "execution_count": 4,
   "id": "ae277c5c",
   "metadata": {
    "ExecuteTime": {
     "end_time": "2022-12-08T11:15:56.922388Z",
     "start_time": "2022-12-08T11:14:56.731879Z"
    }
   },
   "outputs": [
    {
     "name": "stdout",
     "output_type": "stream",
     "text": [
      "9.95000000000000357\r"
     ]
    }
   ],
   "source": [
    "data = []\n",
    "\n",
    "for c in np.arange(0.1,10,0.05):\n",
    "    print(c,end='\\r')\n",
    "    for tol in np.arange(1e-5,1e-3,5e-5):\n",
    "        a,_,_,_ = run(C=c, tol=tol,show=False)\n",
    "        \n",
    "        #Tally metrics\n",
    "        data.append([a,c,tol])"
   ]
  },
  {
   "cell_type": "code",
   "execution_count": 89,
   "id": "651421e3",
   "metadata": {
    "ExecuteTime": {
     "end_time": "2022-12-07T19:03:48.206633Z",
     "start_time": "2022-12-07T19:03:48.199634Z"
    }
   },
   "outputs": [
    {
     "name": "stdout",
     "output_type": "stream",
     "text": [
      "Number of data points: 3960\n",
      "Number of data points equal to 0.9779179810725552:3960\n"
     ]
    }
   ],
   "source": [
    "accuracies = np.array(data).transpose()[0]\n",
    "\n",
    "a, = np.where(accuracies == 0.9779179810725552)\n",
    "print(f'Number of data points: {len(accuracies)}')\n",
    "print(f'Number of data points equal to 0.9779179810725552:{len(a)}')"
   ]
  },
  {
   "cell_type": "markdown",
   "id": "762e5a00",
   "metadata": {},
   "source": [
    "From the above, it seems that varying the regularisation parameter and the tolerance simultaneously does not have any effect on the performance of the Logistic Regression."
   ]
  },
  {
   "cell_type": "markdown",
   "id": "c1078839",
   "metadata": {},
   "source": [
    "## Not adding a bias to the linear decision surface"
   ]
  },
  {
   "cell_type": "code",
   "execution_count": 90,
   "id": "6f10abf9",
   "metadata": {
    "ExecuteTime": {
     "end_time": "2022-12-07T19:06:32.840223Z",
     "start_time": "2022-12-07T19:06:32.696224Z"
    }
   },
   "outputs": [
    {
     "name": "stdout",
     "output_type": "stream",
     "text": [
      "Accuracy:\t0.972\n",
      "Precision:\t0.958\n",
      "Recall:  \t0.984\n",
      "F1 Score:\t0.971\n"
     ]
    },
    {
     "data": {
      "text/plain": [
       "[0.9716088328075709,\n",
       " 0.9584664536741214,\n",
       " 0.9836065573770492,\n",
       " 0.9708737864077669]"
      ]
     },
     "execution_count": 90,
     "metadata": {},
     "output_type": "execute_result"
    },
    {
     "data": {
      "image/png": "[encoded data removed]",
      "text/plain": [
       "<Figure size 500x500 with 2 Axes>"
      ]
     },
     "metadata": {},
     "output_type": "display_data"
    }
   ],
   "source": [
    "run(fit_intercept=False)"
   ]
  },
  {
   "cell_type": "code",
   "execution_count": 92,
   "id": "ceef85c1",
   "metadata": {
    "ExecuteTime": {
     "end_time": "2022-12-07T19:06:53.330222Z",
     "start_time": "2022-12-07T19:06:53.176222Z"
    }
   },
   "outputs": [
    {
     "name": "stdout",
     "output_type": "stream",
     "text": [
      "Accuracy:\t0.978\n",
      "Precision:\t0.971\n",
      "Recall:  \t0.984\n",
      "F1 Score:\t0.977\n"
     ]
    },
    {
     "data": {
      "text/plain": [
       "[0.9779179810725552,\n",
       " 0.9712460063897763,\n",
       " 0.9838187702265372,\n",
       " 0.9774919614147909]"
      ]
     },
     "execution_count": 92,
     "metadata": {},
     "output_type": "execute_result"
    },
    {
     "data": {
      "image/png": "[encoded data removed]",
      "text/plain": [
       "<Figure size 500x500 with 2 Axes>"
      ]
     },
     "metadata": {},
     "output_type": "display_data"
    }
   ],
   "source": [
    "run(fit_intercept=True)"
   ]
  },
  {
   "cell_type": "markdown",
   "id": "3c056733",
   "metadata": {},
   "source": [
    "As can be seen above, when not adding a y-intercept to the decision surface the model misclassifies 4 females more than if it had. This miniscule change in performance could be attributed to the fact that the data is already standardised around 0, and hence a y-intercept is not needed to elevate the decision plane."
   ]
  }
 ],
 "metadata": {
  "kernelspec": {
   "display_name": "Python [conda env:root] *",
   "language": "python",
   "name": "conda-root-py"
  },
  "language_info": {
   "codemirror_mode": {
    "name": "ipython",
    "version": 3
   },
   "file_extension": ".py",
   "mimetype": "text/x-python",
   "name": "python",
   "nbconvert_exporter": "python",
   "pygments_lexer": "ipython3",
   "version": "3.9.7"
  },
  "toc": {
   "base_numbering": 1,
   "nav_menu": {},
   "number_sections": true,
   "sideBar": true,
   "skip_h1_title": false,
   "title_cell": "Table of Contents",
   "title_sidebar": "Contents",
   "toc_cell": false,
   "toc_position": {},
   "toc_section_display": true,
   "toc_window_display": false
  }
 },
 "nbformat": 4,
 "nbformat_minor": 5
}
